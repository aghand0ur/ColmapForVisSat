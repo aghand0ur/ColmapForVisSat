{
  "cells": [
    {
      "cell_type": "markdown",
      "metadata": {
        "id": "view-in-github",
        "colab_type": "text"
      },
      "source": [
        "<a href=\"https://colab.research.google.com/github/aghand0ur/ColmapForVisSat/blob/master/MapBox_Lebanon.ipynb\" target=\"_parent\"><img src=\"https://colab.research.google.com/assets/colab-badge.svg\" alt=\"Open In Colab\"/></a>"
      ]
    },
    {
      "cell_type": "markdown",
      "metadata": {
        "id": "eMXrfTB0NEUF"
      },
      "source": [
        "# *Mapbox*"
      ]
    },
    {
      "cell_type": "code",
      "execution_count": null,
      "metadata": {
        "id": "63IJdLj4M4Pl"
      },
      "outputs": [],
      "source": [
        "#Instal dependencies\n",
        "!pip install polyline \n",
        "!pip install iso3166\n",
        "!pip install boto3\n",
        "!pip install supermercado\n",
        "!pip install mercantile\n",
        "!pip install rasterio\n",
        "!apt install libspatialindex-dev\n",
        "!pip install rtree\n",
        "!pip install pygeos\n",
        "!pip install geopandas\n",
        "!pip install Mapbox\n",
        "#import dependencies\n",
        "import requests\n",
        "import os\n",
        "import shutil\n",
        "import cv2\n",
        "import matplotlib.pyplot as plt\n",
        "import sys\n",
        "import geopandas as gpd\n",
        "import numpy as np\n",
        "import rasterio as rio\n",
        "import rtree\n",
        "from shapely.ops import cascaded_union\n",
        "from shapely.geometry import Polygon,box\n",
        "from PIL import Image\n",
        "from mercantile import bounds\n",
        "from supermercado.burntiles import burn\n",
        "from tqdm.notebook import tqdm\n",
        "from rasterio.merge import merge\n",
        "from rasterio.plot import show\n",
        "import multiprocessing\n",
        "#Clone Mapbox-sdk-py (this repo is currently archieved!)\n",
        "!git clone https://github.com/mapbox/mapbox-sdk-py.git\n",
        "sys.path.append('/content/mapbox-sdk-py')\n",
        "from mapbox import StaticStyle, Maps\n",
        "\n"
      ]
    },
    {
      "cell_type": "code",
      "execution_count": null,
      "metadata": {
        "id": "k8QBWG_grvK1"
      },
      "outputs": [],
      "source": [
        "from google.colab import drive\n",
        "drive.mount('/content/gdrive')"
      ]
    },
    {
      "cell_type": "code",
      "execution_count": null,
      "metadata": {
        "id": "4vNNQVRNiBnw"
      },
      "outputs": [],
      "source": [
        "#useful functions :D\n",
        "\n",
        "def poly_lonlat2pix(poly,bbox_bounds,img,width = None,height = None):\n",
        "  if(img is not None):\n",
        "    h,w = img.shape[:2]\n",
        "  elif(None not in set([width,height])):\n",
        "    h,w = height,width\n",
        "  else:\n",
        "    raise ValueError('Either Image or height and width should not be None')\n",
        "  transform = rio.transform.from_bounds(*bbox_bounds,w,h)\n",
        "  xs,ys = poly.exterior.xy\n",
        "  rows,cols = rio.transform.rowcol(transform,xs,ys)\n",
        "  coords = list(zip(cols,rows))\n",
        "  return Polygon(coords)\n",
        "\n",
        "def get_tiles_xyz(gdf,zoom_level):\n",
        "  gdf_geo = gdf.__geo_interface__\n",
        "  features  = gdf_geo['features']\n",
        "  tiles_xyz = burn(features,zoom_level)\n",
        "  return tiles_xyz\n",
        "\n",
        "def get_covering_tiles(gdf,zoom_level):\n",
        "  tiles_xyz = get_tiles_xyz(gdf,zoom_level)\n",
        "  tiles_bboxs = []\n",
        "  for xyz in tiles_xyz:\n",
        "    _b = bounds(xyz)\n",
        "    tiles_bboxs.append(box(*_b))\n",
        "  return tiles_xyz,tiles_bboxs\n",
        "\n",
        "def poly2gdf(poly,crs):\n",
        "  return gpd.GeoDataFrame({'geometry':[poly]},crs=our_crs)\n",
        "\n",
        "def encode_tile_id(tile_xyz):\n",
        "  return 't_{}_{}_{}'.format(*tile_xyz)\n",
        "\n",
        "def encode_tiles_ids(tiles_xyz):\n",
        "  ids = [encode_tile_id(tile_xyz) for tile_xyz in tiles_xyz]\n",
        "  return ids\n",
        "\n",
        "def encode_multi_id(ids):\n",
        "  return '&'.join(ids)\n",
        "\n",
        "def decode_id(tile_id):\n",
        "  return [*map(int,tile_id.lstrip('t_').split('_'))]\n",
        "\n",
        "def decode_multi_id(multi_tile_id):\n",
        "  return [decode_id(tid) for tid in multi_tile_id.split('&')]\n",
        "\n",
        "#very specific functions\n",
        "def _compress(gdf,_keys,id_key = 'FM_RE_ID'):\n",
        "  keys = gdf.keys()\n",
        "  _keys.extend(['tile_id'])\n",
        "  assert(False not in [(k in keys ) for k in _keys]),'Missing keys from {}'.format(_keys)\n",
        "  _keys[-1] = 'covering_tiles_ids'\n",
        "  print(_keys)\n",
        "  dic = {k : [] for k in _keys}\n",
        "  uniq_fm_ids = gdf[id_key].unique()\n",
        "  for i,fm_id in tqdm(enumerate(uniq_fm_ids)):\n",
        "    query = gdf.loc[gdf[id_key] == fm_id] \n",
        "    values = [query[_k][query.index[0]] if(_k != id_key) else fm_id for _k in _keys[:-1] ]\n",
        "    values.append(encode_multi_id(list(query['tile_id'])))\n",
        "    for k,v in [*zip(_keys,values)]:dic[k].append(v)\n",
        "  return gpd.GeoDataFrame(dic,crs=gdf.crs)\n",
        "\n",
        "def get_covering_tiles_perloc(gdf,zoom_level,id_key = 'FM_RE_ID'):\n",
        "  crs = gdf.crs\n",
        "  tiles_xyz,tiles_bboxs = get_covering_tiles(gdf,zoom_level)\n",
        "  tiles_ids = encode_tiles_ids(tiles_xyz)\n",
        "  tiles_gdf = gpd.GeoDataFrame({'tile_id' : tiles_ids,\n",
        "                                'geometry': tiles_bboxs,\n",
        "                                },\n",
        "                               crs = crs)\n",
        "  joined = gpd.sjoin(gdf,tiles_gdf, how='left', op='intersects')\n",
        "  del joined['index_right']\n",
        "  joined.reset_index(inplace = True,drop = True) \n",
        "  return _compress(joined,[*gdf.keys()],id_key),tiles_gdf\n",
        "\n",
        "def get_sample(fm_id,gdf,col = 'FMID_RE_ID'):\n",
        "  query = gdf.loc[gdf[col]==fm_id]\n",
        "  return query.loc[query.index[0]]\n",
        "\n",
        "def get_tiles_bboxs(tiles_id,gdf,col = 'tile_id'):\n",
        "  tiles_bboxs=[]\n",
        "  for tile_id in tiles_ids:\n",
        "    query = gdf.loc[gdf[col] == tile_id]\n",
        "    tiles_bboxs.append(query['geometry'][query.index[0]])\n",
        "  return tiles_bboxs\n",
        "\n",
        "def process_image(filename):\n",
        "    with rio.open(filename) as src:\n",
        "        return src.read()\n",
        "\n"
      ]
    },
    {
      "cell_type": "code",
      "execution_count": null,
      "metadata": {
        "id": "gfwDlSmJkPZr"
      },
      "outputs": [],
      "source": [
        "#Class to request raster or static tiles\n",
        "class Requestor():\n",
        "  def __init__(self,request_type,access_token):\n",
        "    self.valid_request_types = ['raster_tiles','static_tiles','vector_tiles']\n",
        "    self.requestors = {\n",
        "        'raster_tiles'  : Maps,\n",
        "        'vector_tiles'  : Maps,\n",
        "        'static_tiles'  : StaticStyle\n",
        "    }\n",
        "    self.access_token = access_token\n",
        "    self.reset_request_type(request_type)\n",
        "\n",
        "  def reset_request_type(self,request_type):\n",
        "    assert request_type in self.valid_request_types,'{} is not a valid type,choose one from {}.'.format(request_typ,self.valid_request_types)\n",
        "    self.request_type = request_type\n",
        "    self.requestor = self.requestors[request_type](self.access_token)\n",
        "\n",
        "  def request_tile(self,*args,**kwargs):\n",
        "    return self.requestor.tile(*args,**kwargs)\n",
        "\n",
        "  def request_tiles(self,tiles_xyz,*args,**kwargs):\n",
        "    responces = []\n",
        "    for tile_xyz in tiles_xyz:\n",
        "      x,y,z = tile_xyz\n",
        "      responces.append(self.request_tile(x=x,y=y,z=z,*args,**kwargs))\n",
        "    return responces\n",
        "  \n",
        "\n"
      ]
    },
    {
      "cell_type": "code",
      "execution_count": null,
      "metadata": {
        "id": "yVtV8u7m21RV"
      },
      "outputs": [],
      "source": [
        "aois = [\n",
        "        'Sour',\n",
        "        'Baalbek',\n",
        "        ]"
      ]
    },
    {
      "cell_type": "code",
      "execution_count": null,
      "metadata": {
        "id": "3oRc6V9Aq--j"
      },
      "outputs": [],
      "source": [
        "#define properties\n",
        "zoom_level = 17\n",
        "size = 512 \n",
        "double_dpi = True #double the image size\n",
        "format = 'png256'\n",
        "token = 'pk.eyJ1IjoicmVtb3RlLXNlbnNpbmciLCJhIjoiY2xmY2wyenRzMTMzYzNwbXV6NnY2MzB3biJ9.c8WMzdcQupQoDNwso0BmNA'\n",
        "tileset_id = 'mapbox.satellite'#'mapbox.naip'#\n",
        "style_id = 'satellite-v9'\n",
        "username = 'mapbox'\n",
        "our_crs = 'WGS84'"
      ]
    },
    {
      "cell_type": "code",
      "execution_count": null,
      "metadata": {
        "id": "vHNNrEJhNKBK"
      },
      "outputs": [],
      "source": [
        "#Read shape file of bins samples as gdf\n",
        "shapefile_path = '/content/gdrive/MyDrive/pngs&tiffs-mapbox/ACSArabicUTM/Muni_cadas_v1_utm.shp'\n",
        "shp_gdf = gpd.read_file(shapefile_path)\n",
        "shp_gdf = shp_gdf.to_crs(our_crs)"
      ]
    },
    {
      "cell_type": "code",
      "execution_count": null,
      "metadata": {
        "id": "Qu4blJTedPWY"
      },
      "outputs": [],
      "source": [
        "print(shp_gdf)\n",
        "indices = []\n",
        "for i,row in shp_gdf.iterrows():\n",
        "  if(row['geometry'].geom_type != 'Polygon'):\n",
        "    indices.append(i)\n",
        "print(indices)\n",
        "shp_gdf.drop(indices,inplace=True)\n",
        "shp_gdf.reset_index(inplace = True,drop = True) \n",
        "print(shp_gdf)\n"
      ]
    },
    {
      "cell_type": "code",
      "execution_count": null,
      "metadata": {
        "id": "QQYXNOTk5D3R"
      },
      "outputs": [],
      "source": [
        "#Get all needed tiles to request to cover our AOI's for a specific zoom level\n",
        "matched_gdf,tiles_gdf = get_covering_tiles_perloc(shp_gdf,zoom_level,id_key = 'KADA_NA')\n",
        "print(f'We have {len(matched_gdf)} AOIs and we need {len(tiles_gdf)} tiles at a zoom level equal to {zoom_level} to cover these AOIs!')\n",
        "#visualize a sample of AOI's and their covering tiles\n",
        "count = 3\n",
        "print('Visualizing {} AOIs(red) and their covering tiles(blue):'.format(count))\n",
        "dec_ids = set()\n",
        "for i,row in matched_gdf[:count].iterrows():\n",
        "  dec_ids.update(row['covering_tiles_ids'].split('&'))\n",
        "temp = tiles_gdf[tiles_gdf['tile_id'].isin([*dec_ids])]\n",
        "geoms = temp['geometry']\n",
        "\n",
        "fig,axs = plt.subplots(figsize = (15,4))\n",
        "matched_gdf[:count].plot(ax = axs, color = 'red')\n",
        "\n",
        "for geom in geoms:\n",
        "    axs.plot(*geom.exterior.xy, color = 'blue')\n",
        "plt.show()"
      ]
    },
    {
      "cell_type": "code",
      "execution_count": null,
      "metadata": {
        "id": "GevinLt0O2uh"
      },
      "outputs": [],
      "source": [
        "ii = 0\n",
        "fm_id = aois[ii]\n",
        "query = get_sample(fm_id,matched_gdf,'KADA_NA')\n",
        "sample = query['geometry']\n",
        "multi_id = query['covering_tiles_ids']\n",
        "tiles_ids = multi_id.split('&')\n",
        "tiles_xyz = decode_multi_id(multi_id)\n",
        "tiles_bboxs = get_tiles_bboxs(tiles_ids,tiles_gdf)\n",
        "\n",
        "#plot sample and covering tiles\n",
        "fig,axs = plt.subplots(figsize = (4,4))\n",
        "poly2gdf(sample,our_crs).plot(ax = axs,color='red')\n",
        "for geom in tiles_bboxs:\n",
        "  axs.plot(*geom.exterior.xy,color = 'blue')\n",
        "plt.show()"
      ]
    },
    {
      "cell_type": "code",
      "execution_count": null,
      "metadata": {
        "id": "XwR8ulQOJQ8X"
      },
      "outputs": [],
      "source": [
        "#Request a sample tile either \n",
        "request_type = 'raster_tiles'#'static_tiles'#\n",
        "\n",
        "requestor = Requestor(request_type,token)\n",
        "if(request_type == 'raster_tiles'):\n",
        "  #make a raster raster tile request!\n",
        "  responces_raster = requestor.request_tiles(\n",
        "                                              tiles_xyz,\n",
        "                                              map_id = tileset_id,\n",
        "                                              retina = double_dpi, \n",
        "                                              file_format=\"png\",\n",
        "                                              style_id=None,\n",
        "                                              timestamp=None\n",
        "                                            )\n",
        "  responces = responces_raster\n",
        "\n",
        "elif(request_type == 'static_tiles'):\n",
        "  responces_static = requestor.request_tiles(\n",
        "                                              tiles_xyz,\n",
        "                                              username = username, \n",
        "                                              style_id = style_id, \n",
        "                                              tile_size=size,\n",
        "                                              retina=double_dpi\n",
        "                                            )\n",
        "else:\n",
        "  raise ValueError('{} is not valid !!'.format(request_type))\n",
        "print(responces)"
      ]
    },
    {
      "cell_type": "code",
      "execution_count": null,
      "metadata": {
        "id": "zu70uOD1hNv2"
      },
      "outputs": [],
      "source": [
        "#plot first tile to validate request\n",
        "i=0\n",
        "print('There are {} tiles for {}'.format(len(tiles_xyz),aois[ii]))\n",
        "open('image.png', 'wb').write(responces[i].content)\n",
        "img = cv2.imread('image.png')[...,::-1]\n",
        "tile_bounds = tiles_bboxs[i].bounds\n",
        "intersection = tiles_bboxs[i].intersection(sample)\n",
        "sample_pix = poly_lonlat2pix(intersection,tile_bounds,img)  \n",
        "fig,axs = plt.subplots(figsize = (10,10))\n",
        "axs.imshow(img)\n",
        "\n",
        "axs.plot( *sample_pix.exterior.xy,\n",
        "            color='red', \n",
        "            linewidth=2)"
      ]
    },
    {
      "cell_type": "code",
      "execution_count": null,
      "metadata": {
        "id": "Z42g_rIDeQ4o"
      },
      "outputs": [],
      "source": [
        "#GeoReference Image \n",
        "for i,xyz in enumerate(tiles_xyz):\n",
        "  tid = f'{encode_tile_id(xyz)}_{tileset_id}'\n",
        "  open(f'{tid}.png', 'wb').write(responces[i].content)\n",
        "  img = cv2.imread(f'{tid}.png')[...,::-1]\n",
        "  height,width = img.shape[:2]\n",
        "  bbox = tiles_bboxs[i]\n",
        "  bbox_bounds = bbox.bounds\n",
        "  transform = rio.transform.from_bounds(*bbox_bounds,width,height)\n",
        "  with rio.open(f'{tid}.tif','w+',\n",
        "          driver='GTiff', width=width, height=height, count=3,\n",
        "          crs=our_crs,transform=transform,dtype=img.dtype) as dst: \n",
        "          dst.write(np.ascontiguousarray(img.transpose(2,0,1),dtype = img.dtype))"
      ]
    },
    {
      "cell_type": "code",
      "execution_count": null,
      "metadata": {
        "id": "Y1a4nzNP-_dd"
      },
      "outputs": [],
      "source": [
        "#copy png and tiffs to drive\n",
        "def make_dir(path):\n",
        "  try:\n",
        "    os.makedirs(path)\n",
        "  except:\n",
        "    pass\n",
        "\n",
        "drive_path = '/content/gdrive/MyDrive/pngs&tiffs-mapbox'\n",
        "make_dir(drive_path)\n",
        "files = [f  for f in os.listdir('/content') if(True in [x in f for x in ['.tif','.png']])]\n",
        "print(files)\n",
        "for f in files:\n",
        "  ex = f.split('.')[-1]+'s'\n",
        "  shutil.copyfile('/'.join(['/content',f]),'/'.join([drive_path,ex,f]))"
      ]
    },
    {
      "cell_type": "markdown",
      "metadata": {
        "id": "uao60vff0c1N"
      },
      "source": [
        "Mosaic"
      ]
    },
    {
      "cell_type": "code",
      "execution_count": null,
      "metadata": {
        "colab": {
          "base_uri": "https://localhost:8080/"
        },
        "id": "f3P3crzUBExx",
        "outputId": "6f3732fb-68ab-4e48-9d51-6c852df6950b"
      },
      "outputs": [
        {
          "output_type": "stream",
          "name": "stdout",
          "text": [
            "Mounted at /content/drive\n"
          ]
        }
      ],
      "source": [
        "from google.colab import drive\n",
        "drive.mount('/content/drive')"
      ]
    },
    {
      "cell_type": "code",
      "execution_count": null,
      "metadata": {
        "id": "2BJV-w8MIa_k"
      },
      "outputs": [],
      "source": [
        "os.chdir('/content/drive/MyDrive/pngs&tiffs-mapbox/tifs')\n",
        "unsorted_tiffs = os.listdir()\n",
        "tiffs = sorted(unsorted_tiffs)"
      ]
    },
    {
      "cell_type": "code",
      "execution_count": null,
      "metadata": {
        "id": "fAUL044O4Ymg"
      },
      "outputs": [],
      "source": [
        "print(len(tiffs))"
      ]
    },
    {
      "cell_type": "code",
      "execution_count": null,
      "metadata": {
        "id": "gyBQV_yVMQ3r"
      },
      "outputs": [],
      "source": [
        "def split_batches(images, batch_size):\n",
        "    #Split a list of images into smaller batches.\n",
        "    batches = []\n",
        "    for i in range(0, len(images), batch_size):\n",
        "        batch = images[i:i+batch_size]\n",
        "        batches.append(batch)\n",
        "    return batches\n",
        "\n",
        "def read_files(batch):\n",
        "  tif_list = []\n",
        "  for fp in batch:\n",
        "    if fp.endswith(\".tif\"):\n",
        "      src = rio.open(fp)\n",
        "      tif_list.append(src)\n",
        "  return tif_list\n",
        "# saving the mosaic file \n",
        "def mosaic_write(mosaic , out_trans):\n",
        "  mosaic_meta = tif[0].meta.copy()\n",
        "  mosaic_meta.update({\n",
        "          'driver': 'GTiff',\n",
        "          'height': mosaic.shape[1],\n",
        "          'width': mosaic.shape[2],\n",
        "          'transform': out_trans})\n",
        "  with rio.open(file_path, 'w', **mosaic_meta) as dest:\n",
        "      dest.write(mosaic)"
      ]
    },
    {
      "cell_type": "code",
      "execution_count": null,
      "metadata": {
        "id": "S0FrGZbfnYAV"
      },
      "outputs": [],
      "source": [
        "#This is just for checking the size of the file\n",
        "file_path = '/content/drive/MyDrive/pngs&tiffs-mapbox/mosaic/mosaic3.tif'\n",
        "file_size = os.path.getsize(file_path)\n",
        "print(tiffs)\n",
        "print(f\"The file size of {file_path} is {file_size} bytes.\")"
      ]
    },
    {
      "cell_type": "code",
      "execution_count": null,
      "metadata": {
        "id": "Vjq98u9JAzde"
      },
      "outputs": [],
      "source": [
        "file_path = '/content/drive/MyDrive/pngs&tiffs-mapbox/Size16/batch4.tif'\n",
        "batches = split_batches(tiffs , batch_size =16)\n",
        "tif = read_files(batches[100])\n",
        "mosaic, out_trans = merge(tif )\n",
        "mosaic_write(mosaic , out_trans)"
      ]
    },
    {
      "cell_type": "code",
      "source": [
        "show(mosaic)"
      ],
      "metadata": {
        "id": "pLJAZSg4W3qc"
      },
      "execution_count": null,
      "outputs": []
    },
    {
      "cell_type": "code",
      "execution_count": null,
      "metadata": {
        "id": "jSioC77NzZrw"
      },
      "outputs": [],
      "source": [
        "from datetime import datetime\n",
        "from json import dump\n",
        "res1= requestor.requestor.metadata(tileset_id)\n",
        "tileset_metadata = res1.json()\n",
        "with open('{}.json'.format(tileset_id),'w', encoding='utf-8') as f:\n",
        "  dump(tileset_metadata,f, ensure_ascii=False, indent=4)\n",
        "created_ts = tileset_metadata['created']/1000\n",
        "modified_ts = tileset_metadata['modified']/1000\n",
        "cr = datetime.fromtimestamp(created_ts)\n",
        "mo = datetime.fromtimestamp(modified_ts)\n",
        "print('Tileset \\'{}\\' was created on \\'{}\\' and last modified on \\'{}\\''.format(tileset_id,cr,mo))"
      ]
    },
    {
      "cell_type": "code",
      "execution_count": null,
      "metadata": {
        "id": "Y5kIGiN3ZYD9"
      },
      "outputs": [],
      "source": [
        "style_res = requests.get(f'https://api.mapbox.com/styles/v1/{username}/{style_id}?access_token={token}')\n",
        "with open('{}.json'.format(style_id),'w', encoding='utf-8') as f:\n",
        "  dump(style_res.json(),f, ensure_ascii=False, indent=4)"
      ]
    }
  ],
  "metadata": {
    "accelerator": "GPU",
    "colab": {
      "provenance": [],
      "include_colab_link": true
    },
    "gpuClass": "standard",
    "kernelspec": {
      "display_name": "Python 3",
      "name": "python3"
    }
  },
  "nbformat": 4,
  "nbformat_minor": 0
}